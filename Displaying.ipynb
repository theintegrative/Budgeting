{
 "cells": [
  {
   "cell_type": "code",
   "execution_count": 63,
   "id": "290ec5d7-fe10-4fd2-ae73-27936b7111d1",
   "metadata": {},
   "outputs": [],
   "source": [
    "import main\n",
    "from pprint import pprint"
   ]
  },
  {
   "cell_type": "code",
   "execution_count": 64,
   "id": "55951aa7-6004-4fce-9710-090e86bbf2c9",
   "metadata": {},
   "outputs": [],
   "source": [
    "account = main.Bank(\"myaccount\", 1000)"
   ]
  },
  {
   "cell_type": "code",
   "execution_count": 65,
   "id": "7f83ec67-caa9-40e8-a649-e8dc231600d3",
   "metadata": {},
   "outputs": [],
   "source": [
    "rent = main.payment(\"rent\", -400, 1, 12)"
   ]
  },
  {
   "cell_type": "code",
   "execution_count": 66,
   "id": "63bfd2c5-83e0-4ac8-a899-18a6984d4276",
   "metadata": {},
   "outputs": [],
   "source": [
    "food = main.payment(\"food\", -200, 1, 12)"
   ]
  },
  {
   "cell_type": "code",
   "execution_count": 67,
   "id": "353506b1-82b5-4ccc-9107-73e80989654d",
   "metadata": {},
   "outputs": [],
   "source": [
    "work = main.payment(\"work\", 1600, 1, 12)"
   ]
  },
  {
   "cell_type": "code",
   "execution_count": 68,
   "id": "c843b5a7-2d52-4a4b-beb6-3688aa4fa5eb",
   "metadata": {},
   "outputs": [],
   "source": [
    "finances = [rent, work, food]\n",
    "account.fixed_budgets(finances)"
   ]
  },
  {
   "cell_type": "code",
   "execution_count": 69,
   "id": "fd76bb99-72e7-4202-b53a-e7d274bbe35d",
   "metadata": {},
   "outputs": [],
   "source": [
    "workdesk = main.payment(\"desktop\", -1200, 1, 1)\n",
    "workdesk_start = {\"start\": 10000, \"payments\": workdesk}"
   ]
  },
  {
   "cell_type": "code",
   "execution_count": 70,
   "id": "696abf86-9e4e-4ffd-80b9-b4844e35ab53",
   "metadata": {},
   "outputs": [],
   "source": [
    "funny = main.payment(\"Certification course\", -5000, 1, 1)\n",
    "funny_start = {\"start\": 15000, \"payments\": funny}"
   ]
  },
  {
   "cell_type": "code",
   "execution_count": 71,
   "id": "50a9b307-0a90-492e-99ba-c0bfc3b3a605",
   "metadata": {},
   "outputs": [
    {
     "name": "stdout",
     "output_type": "stream",
     "text": [
      "[{'balance': 1000, 'date': '2023-01-22', 'name': 'Initial'},\n",
      " {'balance': 600, 'date': '2023-01-31', 'name': 'rent'},\n",
      " {'balance': 2200, 'date': '2023-01-31', 'name': 'work'},\n",
      " {'balance': 2000, 'date': '2023-01-31', 'name': 'food'},\n",
      " {'balance': 1600, 'date': '2023-02-28', 'name': 'rent'},\n",
      " {'balance': 3200, 'date': '2023-02-28', 'name': 'work'},\n",
      " {'balance': 3000, 'date': '2023-02-28', 'name': 'food'},\n",
      " {'balance': 2600, 'date': '2023-03-31', 'name': 'rent'},\n",
      " {'balance': 4200, 'date': '2023-03-31', 'name': 'work'},\n",
      " {'balance': 4000, 'date': '2023-03-31', 'name': 'food'},\n",
      " {'balance': 3600, 'date': '2023-04-30', 'name': 'rent'},\n",
      " {'balance': 5200, 'date': '2023-04-30', 'name': 'work'},\n",
      " {'balance': 5000, 'date': '2023-04-30', 'name': 'food'},\n",
      " {'balance': 4600, 'date': '2023-05-31', 'name': 'rent'},\n",
      " {'balance': 6200, 'date': '2023-05-31', 'name': 'work'},\n",
      " {'balance': 6000, 'date': '2023-05-31', 'name': 'food'},\n",
      " {'balance': 5600, 'date': '2023-06-30', 'name': 'rent'},\n",
      " {'balance': 7200, 'date': '2023-06-30', 'name': 'work'},\n",
      " {'balance': 7000, 'date': '2023-06-30', 'name': 'food'},\n",
      " {'balance': 6600, 'date': '2023-07-31', 'name': 'rent'},\n",
      " {'balance': 8200, 'date': '2023-07-31', 'name': 'work'},\n",
      " {'balance': 8000, 'date': '2023-07-31', 'name': 'food'},\n",
      " {'balance': 7600, 'date': '2023-08-31', 'name': 'rent'},\n",
      " {'balance': 9200, 'date': '2023-08-31', 'name': 'work'},\n",
      " {'balance': 9000, 'date': '2023-08-31', 'name': 'food'},\n",
      " {'balance': 8600, 'date': '2023-09-30', 'name': 'rent'},\n",
      " {'balance': 10200, 'date': '2023-09-30', 'name': 'work'},\n",
      " {'balance': 10000, 'date': '2023-09-30', 'name': 'food'},\n",
      " {'balance': 9600, 'date': '2023-10-31', 'name': 'rent'},\n",
      " {'balance': 11200, 'date': '2023-10-31', 'name': 'work'},\n",
      " {'balance': 11000, 'date': '2023-10-31', 'name': 'food'},\n",
      " {'balance': 10600, 'date': '2023-11-30', 'name': 'rent'},\n",
      " {'balance': 12200, 'date': '2023-11-30', 'name': 'work'},\n",
      " {'balance': 12000, 'date': '2023-11-30', 'name': 'food'},\n",
      " {'balance': 11600, 'date': '2023-12-31', 'name': 'rent'},\n",
      " {'balance': 13200, 'date': '2023-12-31', 'name': 'work'},\n",
      " {'balance': 13000, 'date': '2023-12-31', 'name': 'food'}]\n"
     ]
    }
   ],
   "source": [
    "pprint(account.show())"
   ]
  },
  {
   "cell_type": "code",
   "execution_count": 72,
   "id": "572f1e2a-5f4d-4c9f-a31f-f6a16abe2bc5",
   "metadata": {},
   "outputs": [],
   "source": [
    "investments = [workdesk_start, funny_start]"
   ]
  },
  {
   "cell_type": "code",
   "execution_count": 73,
   "id": "5daa1c21-50a1-485e-94fc-b1f06efc54b0",
   "metadata": {},
   "outputs": [],
   "source": [
    "account.planed_investments(investments)"
   ]
  },
  {
   "cell_type": "code",
   "execution_count": 74,
   "id": "d50d0749-fc68-4196-911e-17bd54185649",
   "metadata": {},
   "outputs": [
    {
     "name": "stdout",
     "output_type": "stream",
     "text": [
      "[{'balance': 1000, 'date': '2023-01-22', 'name': 'Initial'},\n",
      " {'balance': 600, 'date': '2023-01-31', 'name': 'rent'},\n",
      " {'balance': 2200, 'date': '2023-01-31', 'name': 'work'},\n",
      " {'balance': 2000, 'date': '2023-01-31', 'name': 'food'},\n",
      " {'balance': 1600, 'date': '2023-02-28', 'name': 'rent'},\n",
      " {'balance': 3200, 'date': '2023-02-28', 'name': 'work'},\n",
      " {'balance': 3000, 'date': '2023-02-28', 'name': 'food'},\n",
      " {'balance': 2600, 'date': '2023-03-31', 'name': 'rent'},\n",
      " {'balance': 4200, 'date': '2023-03-31', 'name': 'work'},\n",
      " {'balance': 4000, 'date': '2023-03-31', 'name': 'food'},\n",
      " {'balance': 3600, 'date': '2023-04-30', 'name': 'rent'},\n",
      " {'balance': 5200, 'date': '2023-04-30', 'name': 'work'},\n",
      " {'balance': 5000, 'date': '2023-04-30', 'name': 'food'},\n",
      " {'balance': 4600, 'date': '2023-05-31', 'name': 'rent'},\n",
      " {'balance': 6200, 'date': '2023-05-31', 'name': 'work'},\n",
      " {'balance': 6000, 'date': '2023-05-31', 'name': 'food'},\n",
      " {'balance': 5600, 'date': '2023-06-30', 'name': 'rent'},\n",
      " {'balance': 7200, 'date': '2023-06-30', 'name': 'work'},\n",
      " {'balance': 7000, 'date': '2023-06-30', 'name': 'food'},\n",
      " {'balance': 6600, 'date': '2023-07-31', 'name': 'rent'},\n",
      " {'balance': 8200, 'date': '2023-07-31', 'name': 'work'},\n",
      " {'balance': 8000, 'date': '2023-07-31', 'name': 'food'},\n",
      " {'balance': 7600, 'date': '2023-08-31', 'name': 'rent'},\n",
      " {'balance': 9200, 'date': '2023-08-31', 'name': 'work'},\n",
      " {'balance': 9000, 'date': '2023-08-31', 'name': 'food'},\n",
      " {'balance': 8600, 'date': '2023-09-30', 'name': 'rent'},\n",
      " {'balance': 10200, 'date': '2023-09-30', 'name': 'work'},\n",
      " {'balance': 10000, 'date': '2023-09-30', 'name': 'food'},\n",
      " {'balance': 8800, 'date': '2023-09-30', 'name': 'desktop'},\n",
      " {'balance': 8400, 'date': '2023-10-31', 'name': 'rent'},\n",
      " {'balance': 10000, 'date': '2023-10-31', 'name': 'work'},\n",
      " {'balance': 9800, 'date': '2023-10-31', 'name': 'food'},\n",
      " {'balance': 9400, 'date': '2023-11-30', 'name': 'rent'},\n",
      " {'balance': 11000, 'date': '2023-11-30', 'name': 'work'},\n",
      " {'balance': 10800, 'date': '2023-11-30', 'name': 'food'},\n",
      " {'balance': 10400, 'date': '2023-12-31', 'name': 'rent'},\n",
      " {'balance': 12000, 'date': '2023-12-31', 'name': 'work'},\n",
      " {'balance': 11800, 'date': '2023-12-31', 'name': 'food'}]\n"
     ]
    }
   ],
   "source": [
    "pprint(account.show())"
   ]
  },
  {
   "cell_type": "code",
   "execution_count": 62,
   "id": "544784ab-f382-41d9-8caa-0c71337e3a32",
   "metadata": {},
   "outputs": [],
   "source": [
    "account.dropall()"
   ]
  }
 ],
 "metadata": {
  "kernelspec": {
   "display_name": "Python 3 (ipykernel)",
   "language": "python",
   "name": "python3"
  },
  "language_info": {
   "codemirror_mode": {
    "name": "ipython",
    "version": 3
   },
   "file_extension": ".py",
   "mimetype": "text/x-python",
   "name": "python",
   "nbconvert_exporter": "python",
   "pygments_lexer": "ipython3",
   "version": "3.10.6"
  }
 },
 "nbformat": 4,
 "nbformat_minor": 5
}
