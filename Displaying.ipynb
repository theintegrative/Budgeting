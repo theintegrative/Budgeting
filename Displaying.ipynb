{
 "cells": [
  {
   "cell_type": "code",
   "execution_count": 15,
   "id": "290ec5d7-fe10-4fd2-ae73-27936b7111d1",
   "metadata": {},
   "outputs": [],
   "source": [
    "import main\n",
    "from pprint import pprint"
   ]
  },
  {
   "cell_type": "code",
   "execution_count": 16,
   "id": "55951aa7-6004-4fce-9710-090e86bbf2c9",
   "metadata": {},
   "outputs": [],
   "source": [
    "account = main.Bank(\"myaccount\", 1000)"
   ]
  },
  {
   "cell_type": "code",
   "execution_count": 17,
   "id": "7f83ec67-caa9-40e8-a649-e8dc231600d3",
   "metadata": {},
   "outputs": [],
   "source": [
    "account.add_payment(\"rent\", -400, 1, 12)"
   ]
  },
  {
   "cell_type": "code",
   "execution_count": 18,
   "id": "63bfd2c5-83e0-4ac8-a899-18a6984d4276",
   "metadata": {},
   "outputs": [],
   "source": [
    "account.add_payment(\"food\", -200, 1, 12)"
   ]
  },
  {
   "cell_type": "code",
   "execution_count": 19,
   "id": "353506b1-82b5-4ccc-9107-73e80989654d",
   "metadata": {},
   "outputs": [],
   "source": [
    "account.add_payment(\"work\", 1600, 1, 12)"
   ]
  },
  {
   "cell_type": "code",
   "execution_count": 20,
   "id": "fd76bb99-72e7-4202-b53a-e7d274bbe35d",
   "metadata": {},
   "outputs": [],
   "source": [
    "account.add_payment(\"desktop\", -1200, 1, 1)"
   ]
  },
  {
   "cell_type": "code",
   "execution_count": 21,
   "id": "696abf86-9e4e-4ffd-80b9-b4844e35ab53",
   "metadata": {},
   "outputs": [],
   "source": [
    "account.add_payment(\"Certification course\", -5000, 1, 1)"
   ]
  },
  {
   "cell_type": "code",
   "execution_count": 22,
   "id": "c4844555",
   "metadata": {},
   "outputs": [],
   "source": [
    "account.add_payment(\"Bananas\", -3000, 1, 1)"
   ]
  },
  {
   "cell_type": "code",
   "execution_count": 23,
   "id": "933bc3f7",
   "metadata": {},
   "outputs": [],
   "source": [
    "account.add_investment(1, 100, 10000, \"Certification course\")"
   ]
  },
  {
   "cell_type": "code",
   "execution_count": 24,
   "id": "50a9b307-0a90-492e-99ba-c0bfc3b3a605",
   "metadata": {},
   "outputs": [],
   "source": [
    "account.sort_budgets()"
   ]
  },
  {
   "cell_type": "code",
   "execution_count": 25,
   "id": "572f1e2a-5f4d-4c9f-a31f-f6a16abe2bc5",
   "metadata": {},
   "outputs": [
    {
     "name": "stdout",
     "output_type": "stream",
     "text": [
      "[{'balance': 1000, 'date': '2023-02-01', 'name': 'Initial'},\n",
      " {'balance': 600, 'date': '2023-03-31', 'name': 'rent'},\n",
      " {'balance': 400, 'date': '2023-03-31', 'name': 'food'},\n",
      " {'balance': 2000, 'date': '2023-03-31', 'name': 'work'},\n",
      " {'balance': 800, 'date': '2023-03-31', 'name': 'desktop'},\n",
      " {'balance': -2200, 'date': '2023-03-31', 'name': 'Bananas'},\n",
      " {'balance': -2600, 'date': '2023-04-30', 'name': 'rent'},\n",
      " {'balance': -2800, 'date': '2023-04-30', 'name': 'food'},\n",
      " {'balance': -1200, 'date': '2023-04-30', 'name': 'work'},\n",
      " {'balance': -1600, 'date': '2023-05-31', 'name': 'rent'},\n",
      " {'balance': -1800, 'date': '2023-05-31', 'name': 'food'},\n",
      " {'balance': -200, 'date': '2023-05-31', 'name': 'work'},\n",
      " {'balance': -600, 'date': '2023-06-30', 'name': 'rent'},\n",
      " {'balance': -800, 'date': '2023-06-30', 'name': 'food'},\n",
      " {'balance': 800, 'date': '2023-06-30', 'name': 'work'},\n",
      " {'balance': 400, 'date': '2023-07-31', 'name': 'rent'},\n",
      " {'balance': 200, 'date': '2023-07-31', 'name': 'food'},\n",
      " {'balance': 1800, 'date': '2023-07-31', 'name': 'work'},\n",
      " {'balance': 1400, 'date': '2023-08-31', 'name': 'rent'},\n",
      " {'balance': 1200, 'date': '2023-08-31', 'name': 'food'},\n",
      " {'balance': 2800, 'date': '2023-08-31', 'name': 'work'},\n",
      " {'balance': 2400, 'date': '2023-09-30', 'name': 'rent'},\n",
      " {'balance': 2200, 'date': '2023-09-30', 'name': 'food'},\n",
      " {'balance': 3800, 'date': '2023-09-30', 'name': 'work'},\n",
      " {'balance': 3400, 'date': '2023-10-31', 'name': 'rent'},\n",
      " {'balance': 3200, 'date': '2023-10-31', 'name': 'food'},\n",
      " {'balance': 4800, 'date': '2023-10-31', 'name': 'work'},\n",
      " {'balance': 4400, 'date': '2023-11-30', 'name': 'rent'},\n",
      " {'balance': 4200, 'date': '2023-11-30', 'name': 'food'},\n",
      " {'balance': 5800, 'date': '2023-11-30', 'name': 'work'},\n",
      " {'balance': 5400, 'date': '2023-12-31', 'name': 'rent'},\n",
      " {'balance': 5200, 'date': '2023-12-31', 'name': 'food'},\n",
      " {'balance': 6800, 'date': '2023-12-31', 'name': 'work'},\n",
      " {'balance': 6400, 'date': '2024-01-31', 'name': 'rent'},\n",
      " {'balance': 6200, 'date': '2024-01-31', 'name': 'food'},\n",
      " {'balance': 7800, 'date': '2024-01-31', 'name': 'work'},\n",
      " {'balance': 7400, 'date': '2024-02-29', 'name': 'rent'},\n",
      " {'balance': 7200, 'date': '2024-02-29', 'name': 'food'},\n",
      " {'balance': 8800, 'date': '2024-02-29', 'name': 'work'}]\n"
     ]
    }
   ],
   "source": [
    "pprint(account.show())"
   ]
  },
  {
   "cell_type": "code",
   "execution_count": 26,
   "id": "5daa1c21-50a1-485e-94fc-b1f06efc54b0",
   "metadata": {},
   "outputs": [],
   "source": [
    "account.dropall()"
   ]
  }
 ],
 "metadata": {
  "kernelspec": {
   "display_name": "Python 3 (ipykernel)",
   "language": "python",
   "name": "python3"
  },
  "language_info": {
   "codemirror_mode": {
    "name": "ipython",
    "version": 3
   },
   "file_extension": ".py",
   "mimetype": "text/x-python",
   "name": "python",
   "nbconvert_exporter": "python",
   "pygments_lexer": "ipython3",
   "version": "3.10.6"
  }
 },
 "nbformat": 4,
 "nbformat_minor": 5
}
